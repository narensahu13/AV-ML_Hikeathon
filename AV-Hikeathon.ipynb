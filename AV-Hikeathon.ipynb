{
 "cells": [
  {
   "cell_type": "code",
   "execution_count": 1,
   "metadata": {},
   "outputs": [
    {
     "name": "stderr",
     "output_type": "stream",
     "text": [
      "/usr/local/lib/python3.6/dist-packages/sklearn/ensemble/weight_boosting.py:29: DeprecationWarning: numpy.core.umath_tests is an internal NumPy module and should not be imported. It will be removed in a future NumPy release.\n",
      "  from numpy.core.umath_tests import inner1d\n"
     ]
    }
   ],
   "source": [
    "%load_ext autoreload\n",
    "%autoreload 2\n",
    "%matplotlib inline\n",
    "from fastai.imports import *\n",
    "from fastai.structured import *\n",
    "from pandas_summary import DataFrameSummary\n",
    "from sklearn.ensemble import RandomForestRegressor, RandomForestClassifier\n",
    "from IPython.display import display\n",
    "from sklearn import metrics\n",
    "from sklearn.metrics import roc_auc_score\n",
    "from xgboost import XGBClassifier\n",
    "from sklearn.linear_model import LogisticRegressionCV\n",
    "from fastai.column_data import *"
   ]
  },
  {
   "cell_type": "code",
   "execution_count": 2,
   "metadata": {},
   "outputs": [],
   "source": [
    "PATH = \"data/hike\""
   ]
  },
  {
   "cell_type": "code",
   "execution_count": 3,
   "metadata": {},
   "outputs": [
    {
     "name": "stdout",
     "output_type": "stream",
     "text": [
      "sample_submission_only_headers.csv  test.zip  train.csv  user_features.csv\r\n"
     ]
    }
   ],
   "source": [
    "!ls {PATH}"
   ]
  },
  {
   "cell_type": "code",
   "execution_count": 4,
   "metadata": {},
   "outputs": [],
   "source": [
    "#import patoolib  #uncomment this if running for 1st time\n",
    "#patoolib.extract_archive(f'{PATH}/train.zip',outdir=PATH) #uncomment this if running for 1st time"
   ]
  },
  {
   "cell_type": "code",
   "execution_count": 5,
   "metadata": {},
   "outputs": [],
   "source": [
    "#!ls {PATH}"
   ]
  },
  {
   "cell_type": "code",
   "execution_count": 6,
   "metadata": {},
   "outputs": [],
   "source": [
    "dtype = {'node1_id':'int32','node2_id':'int32','is_chat':'int8','node_id':'int32','id':'int32','f1':'int8','f2':'int8','f3':'int8',\n",
    "         'f4':'int8','f5':'int8','f6':'int8','f7':'int8','f8':'int8','f9':'int8','f10':'int8','f11':'int8','f12':'int8','f13':'category',}"
   ]
  },
  {
   "cell_type": "code",
   "execution_count": 7,
   "metadata": {},
   "outputs": [],
   "source": [
    "#  %%time\n",
    "# df_train = pd.read_csv(f'{PATH}/train.csv', low_memory=True,dtype=dtype)"
   ]
  },
  {
   "cell_type": "code",
   "execution_count": 8,
   "metadata": {},
   "outputs": [],
   "source": [
    "# %%time\n",
    "# user_feat = pd.read_csv(f'{PATH}/user_features.csv', low_memory=True,dtype=dtype)"
   ]
  },
  {
   "cell_type": "code",
   "execution_count": 10,
   "metadata": {},
   "outputs": [],
   "source": [
    "# user_feat.head()"
   ]
  },
  {
   "cell_type": "code",
   "execution_count": 9,
   "metadata": {},
   "outputs": [],
   "source": [
    "# ##feature engineering\n",
    "# #col = ['f1','f2','f3','f4','f5','f6','f7','f8','f9','f10','f11','f12']\n",
    "# def add_feature(df):\n",
    "#     #for col in ['f1','f2','f3','f4','f5','f6','f7','f8','f9','f10','f11','f12']:\n",
    "#     df['day_avg'] = df.iloc[:,1:13].mean(axis=1).astype('float32')\n",
    "#     df['day_std']  = df.iloc[:,1:12].std (axis=1).astype('float32')\n",
    "#     df['day_max'] = df.iloc[:,1:12].max(axis=1).astype('int8')\n",
    "#     df['day_min']  = df.iloc[:,1:12].min (axis=1).astype('int8')\n",
    "#     df['day_range'] = df.iloc[:,1:12].max(axis=1) - df.iloc[:,1:12].min(axis=1).astype('int8')\n",
    "#     df['day_maxmin'] = df.iloc[:,1:12].max(axis=1) / df.iloc[:,1:12].min(axis=1).astype('float32')\n",
    "#     return df"
   ]
  },
  {
   "cell_type": "code",
   "execution_count": 9,
   "metadata": {},
   "outputs": [],
   "source": [
    "def display_all(df):\n",
    "    with pd.option_context(\"display.max_rows\", 1000): \n",
    "        with pd.option_context(\"display.max_columns\", 1000): \n",
    "            display(df)"
   ]
  },
  {
   "cell_type": "code",
   "execution_count": 11,
   "metadata": {},
   "outputs": [],
   "source": [
    "# user_feat = add_feature(user_feat)"
   ]
  },
  {
   "cell_type": "code",
   "execution_count": 12,
   "metadata": {},
   "outputs": [],
   "source": [
    "# user_feat['day_maxmin'].fillna(0,inplace=True)\n",
    "# user_feat['day_maxmin'].replace(-np.inf,0,inplace=True)\n",
    "# user_feat['day_maxmin'].replace(np.inf,0,inplace=True)"
   ]
  },
  {
   "cell_type": "code",
   "execution_count": 33,
   "metadata": {},
   "outputs": [],
   "source": [
    "# user_feat.dtypes"
   ]
  },
  {
   "cell_type": "code",
   "execution_count": 32,
   "metadata": {},
   "outputs": [],
   "source": [
    "#  display_all(df_train.head().T)"
   ]
  },
  {
   "cell_type": "code",
   "execution_count": 22,
   "metadata": {},
   "outputs": [],
   "source": [
    "# df_train0 = df_train[df_train['is_chat']==0]\n",
    "# df_train1 = df_train[df_train['is_chat']==1]"
   ]
  },
  {
   "cell_type": "code",
   "execution_count": 11,
   "metadata": {},
   "outputs": [
    {
     "data": {
      "text/plain": [
       "((68410018, 3), (2251784, 3))"
      ]
     },
     "execution_count": 11,
     "metadata": {},
     "output_type": "execute_result"
    }
   ],
   "source": [
    "# df_train0.shape, df_train1.shape"
   ]
  },
  {
   "cell_type": "code",
   "execution_count": null,
   "metadata": {},
   "outputs": [],
   "source": [
    "#df_train0.head()"
   ]
  },
  {
   "cell_type": "code",
   "execution_count": 13,
   "metadata": {},
   "outputs": [
    {
     "data": {
      "text/plain": [
       "((70661802, 3), (8264276, 14))"
      ]
     },
     "execution_count": 13,
     "metadata": {},
     "output_type": "execute_result"
    }
   ],
   "source": [
    "# df_train.shape, user_feat.shape"
   ]
  },
  {
   "cell_type": "code",
   "execution_count": 9,
   "metadata": {},
   "outputs": [],
   "source": [
    "# df_train.sort_values('is_chat',axis=1, ascending=False)[0:3000000].groupby(['is_chat'])['is_chat'].count()/3000000"
   ]
  },
  {
   "cell_type": "code",
   "execution_count": 23,
   "metadata": {},
   "outputs": [],
   "source": [
    "# df_train = pd.concat([df_train1,df_train0],ignore_index=True)"
   ]
  },
  {
   "cell_type": "code",
   "execution_count": 24,
   "metadata": {},
   "outputs": [],
   "source": [
    "# del(df_train0,df_train1)"
   ]
  },
  {
   "cell_type": "code",
   "execution_count": 34,
   "metadata": {},
   "outputs": [],
   "source": [
    "# df_train.nunique()"
   ]
  },
  {
   "cell_type": "code",
   "execution_count": 35,
   "metadata": {},
   "outputs": [],
   "source": [
    "# user_feat.nunique()"
   ]
  },
  {
   "cell_type": "code",
   "execution_count": 27,
   "metadata": {},
   "outputs": [],
   "source": [
    "# df_test = pd.read_csv(f'{PATH}/test.zip', low_memory=True,dtype=dtype)"
   ]
  },
  {
   "cell_type": "code",
   "execution_count": 10,
   "metadata": {},
   "outputs": [],
   "source": [
    "#df_train.tail()"
   ]
  },
  {
   "cell_type": "code",
   "execution_count": 11,
   "metadata": {},
   "outputs": [],
   "source": [
    "#user_feat.tail()"
   ]
  },
  {
   "cell_type": "code",
   "execution_count": 13,
   "metadata": {},
   "outputs": [],
   "source": [
    "#df_train.shape, user_feat.shape, df_test.shape"
   ]
  },
  {
   "cell_type": "code",
   "execution_count": 11,
   "metadata": {},
   "outputs": [],
   "source": [
    "# display_all(df_train.head().T)"
   ]
  },
  {
   "cell_type": "code",
   "execution_count": 15,
   "metadata": {},
   "outputs": [],
   "source": [
    "#user_feat.describe()"
   ]
  },
  {
   "cell_type": "code",
   "execution_count": 16,
   "metadata": {},
   "outputs": [],
   "source": [
    "#df_test.describe()"
   ]
  },
  {
   "cell_type": "code",
   "execution_count": 17,
   "metadata": {},
   "outputs": [],
   "source": [
    "#df_train.groupby('is_chat')['is_chat'].count()"
   ]
  },
  {
   "cell_type": "code",
   "execution_count": 13,
   "metadata": {},
   "outputs": [],
   "source": [
    "# df_train = df_train.merge(user_feat, left_on='node2_id', right_on='node_id').drop(['node_id'],axis=1)\n",
    "# no_rename = {'node1_id', 'node2_id','is_chat'}\n",
    "# df_train.columns = ['{}{}'.format(c, '' if c in no_rename else '_2') for c in df_train.columns]\n",
    "# df_train = df_train.merge(user_feat, left_on='node1_id', right_on='node_id').drop(['node_id'],axis=1)"
   ]
  },
  {
   "cell_type": "code",
   "execution_count": 17,
   "metadata": {},
   "outputs": [],
   "source": [
    "# df_train.to_feather('tmp/df_train_hike')"
   ]
  },
  {
   "cell_type": "code",
   "execution_count": 28,
   "metadata": {},
   "outputs": [],
   "source": [
    "# df_test = df_test.merge(user_feat, left_on='node2_id', right_on='node_id').drop(['node_id'],axis=1)\n",
    "# no_rename = {'node1_id', 'node2_id','id'}\n",
    "# df_test.columns = ['{}{}'.format(c, '' if c in no_rename else '_2') for c in df_test.columns]\n",
    "# df_test = df_test.merge(user_feat, left_on='node1_id', right_on='node_id').drop(['node_id'],axis=1)"
   ]
  },
  {
   "cell_type": "code",
   "execution_count": 30,
   "metadata": {},
   "outputs": [],
   "source": [
    "#display_all(df_test.head().T)"
   ]
  },
  {
   "cell_type": "code",
   "execution_count": 31,
   "metadata": {},
   "outputs": [],
   "source": [
    "# df_test.to_feather('tmp/df_test_hike')"
   ]
  },
  {
   "cell_type": "code",
   "execution_count": 9,
   "metadata": {},
   "outputs": [
    {
     "name": "stderr",
     "output_type": "stream",
     "text": [
      "/usr/local/lib/python3.6/dist-packages/pandas/io/feather_format.py:112: FutureWarning: `nthreads` argument is deprecated, pass `use_threads` instead\n",
      "  return feather.read_dataframe(path, nthreads=nthreads)\n"
     ]
    }
   ],
   "source": [
    "df_train = pd.read_feather('tmp/df_train_hike')\n",
    "df_test = pd.read_feather('tmp/df_test_hike')"
   ]
  },
  {
   "cell_type": "code",
   "execution_count": 20,
   "metadata": {},
   "outputs": [
    {
     "data": {
      "text/html": [
       "<div>\n",
       "<style scoped>\n",
       "    .dataframe tbody tr th:only-of-type {\n",
       "        vertical-align: middle;\n",
       "    }\n",
       "\n",
       "    .dataframe tbody tr th {\n",
       "        vertical-align: top;\n",
       "    }\n",
       "\n",
       "    .dataframe thead th {\n",
       "        text-align: right;\n",
       "    }\n",
       "</style>\n",
       "<table border=\"1\" class=\"dataframe\">\n",
       "  <thead>\n",
       "    <tr style=\"text-align: right;\">\n",
       "      <th></th>\n",
       "      <th>id</th>\n",
       "      <th>node1_id</th>\n",
       "      <th>node2_id</th>\n",
       "      <th>f1_2</th>\n",
       "      <th>f2_2</th>\n",
       "      <th>f3_2</th>\n",
       "      <th>f4_2</th>\n",
       "      <th>f5_2</th>\n",
       "      <th>f6_2</th>\n",
       "      <th>f7_2</th>\n",
       "      <th>...</th>\n",
       "      <th>f4</th>\n",
       "      <th>f5</th>\n",
       "      <th>f6</th>\n",
       "      <th>f7</th>\n",
       "      <th>f8</th>\n",
       "      <th>f9</th>\n",
       "      <th>f10</th>\n",
       "      <th>f11</th>\n",
       "      <th>f12</th>\n",
       "      <th>f13</th>\n",
       "    </tr>\n",
       "  </thead>\n",
       "  <tbody>\n",
       "    <tr>\n",
       "      <th>0</th>\n",
       "      <td>1</td>\n",
       "      <td>7107094</td>\n",
       "      <td>8010772</td>\n",
       "      <td>31</td>\n",
       "      <td>24</td>\n",
       "      <td>2</td>\n",
       "      <td>31</td>\n",
       "      <td>24</td>\n",
       "      <td>3</td>\n",
       "      <td>31</td>\n",
       "      <td>...</td>\n",
       "      <td>31</td>\n",
       "      <td>6</td>\n",
       "      <td>1</td>\n",
       "      <td>31</td>\n",
       "      <td>8</td>\n",
       "      <td>1</td>\n",
       "      <td>31</td>\n",
       "      <td>9</td>\n",
       "      <td>1</td>\n",
       "      <td>15</td>\n",
       "    </tr>\n",
       "    <tr>\n",
       "      <th>1</th>\n",
       "      <td>1514667</td>\n",
       "      <td>7107094</td>\n",
       "      <td>7110578</td>\n",
       "      <td>5</td>\n",
       "      <td>5</td>\n",
       "      <td>1</td>\n",
       "      <td>5</td>\n",
       "      <td>5</td>\n",
       "      <td>1</td>\n",
       "      <td>5</td>\n",
       "      <td>...</td>\n",
       "      <td>31</td>\n",
       "      <td>6</td>\n",
       "      <td>1</td>\n",
       "      <td>31</td>\n",
       "      <td>8</td>\n",
       "      <td>1</td>\n",
       "      <td>31</td>\n",
       "      <td>9</td>\n",
       "      <td>1</td>\n",
       "      <td>15</td>\n",
       "    </tr>\n",
       "    <tr>\n",
       "      <th>2</th>\n",
       "      <td>10094767</td>\n",
       "      <td>7107094</td>\n",
       "      <td>3504535</td>\n",
       "      <td>31</td>\n",
       "      <td>16</td>\n",
       "      <td>1</td>\n",
       "      <td>31</td>\n",
       "      <td>11</td>\n",
       "      <td>0</td>\n",
       "      <td>31</td>\n",
       "      <td>...</td>\n",
       "      <td>31</td>\n",
       "      <td>6</td>\n",
       "      <td>1</td>\n",
       "      <td>31</td>\n",
       "      <td>8</td>\n",
       "      <td>1</td>\n",
       "      <td>31</td>\n",
       "      <td>9</td>\n",
       "      <td>1</td>\n",
       "      <td>15</td>\n",
       "    </tr>\n",
       "    <tr>\n",
       "      <th>3</th>\n",
       "      <td>5262085</td>\n",
       "      <td>7107094</td>\n",
       "      <td>4911208</td>\n",
       "      <td>31</td>\n",
       "      <td>22</td>\n",
       "      <td>6</td>\n",
       "      <td>31</td>\n",
       "      <td>26</td>\n",
       "      <td>5</td>\n",
       "      <td>31</td>\n",
       "      <td>...</td>\n",
       "      <td>31</td>\n",
       "      <td>6</td>\n",
       "      <td>1</td>\n",
       "      <td>31</td>\n",
       "      <td>8</td>\n",
       "      <td>1</td>\n",
       "      <td>31</td>\n",
       "      <td>9</td>\n",
       "      <td>1</td>\n",
       "      <td>15</td>\n",
       "    </tr>\n",
       "    <tr>\n",
       "      <th>4</th>\n",
       "      <td>3434399</td>\n",
       "      <td>1242529</td>\n",
       "      <td>8010772</td>\n",
       "      <td>31</td>\n",
       "      <td>24</td>\n",
       "      <td>2</td>\n",
       "      <td>31</td>\n",
       "      <td>24</td>\n",
       "      <td>3</td>\n",
       "      <td>31</td>\n",
       "      <td>...</td>\n",
       "      <td>31</td>\n",
       "      <td>18</td>\n",
       "      <td>0</td>\n",
       "      <td>31</td>\n",
       "      <td>19</td>\n",
       "      <td>0</td>\n",
       "      <td>31</td>\n",
       "      <td>17</td>\n",
       "      <td>1</td>\n",
       "      <td>15</td>\n",
       "    </tr>\n",
       "  </tbody>\n",
       "</table>\n",
       "<p>5 rows × 29 columns</p>\n",
       "</div>"
      ],
      "text/plain": [
       "         id  node1_id  node2_id  f1_2  f2_2  f3_2  f4_2  f5_2  f6_2  f7_2  \\\n",
       "0         1   7107094   8010772    31    24     2    31    24     3    31   \n",
       "1   1514667   7107094   7110578     5     5     1     5     5     1     5   \n",
       "2  10094767   7107094   3504535    31    16     1    31    11     0    31   \n",
       "3   5262085   7107094   4911208    31    22     6    31    26     5    31   \n",
       "4   3434399   1242529   8010772    31    24     2    31    24     3    31   \n",
       "\n",
       "  ...   f4  f5  f6  f7  f8  f9  f10  f11  f12  f13  \n",
       "0 ...   31   6   1  31   8   1   31    9    1   15  \n",
       "1 ...   31   6   1  31   8   1   31    9    1   15  \n",
       "2 ...   31   6   1  31   8   1   31    9    1   15  \n",
       "3 ...   31   6   1  31   8   1   31    9    1   15  \n",
       "4 ...   31  18   0  31  19   0   31   17    1   15  \n",
       "\n",
       "[5 rows x 29 columns]"
      ]
     },
     "execution_count": 20,
     "metadata": {},
     "output_type": "execute_result"
    }
   ],
   "source": [
    "df_test.head()"
   ]
  },
  {
   "cell_type": "code",
   "execution_count": 14,
   "metadata": {},
   "outputs": [
    {
     "data": {
      "text/plain": [
       "((70661802, 41), (11776968, 41))"
      ]
     },
     "execution_count": 14,
     "metadata": {},
     "output_type": "execute_result"
    }
   ],
   "source": [
    "df_train.shape, df_test.shape"
   ]
  },
  {
   "cell_type": "code",
   "execution_count": 22,
   "metadata": {},
   "outputs": [],
   "source": [
    "#df_train.dtypes, df_test.dtypes"
   ]
  },
  {
   "cell_type": "code",
   "execution_count": 10,
   "metadata": {},
   "outputs": [],
   "source": [
    "df, y = df_train.drop(['is_chat'],axis=1), df_train.is_chat"
   ]
  },
  {
   "cell_type": "code",
   "execution_count": 11,
   "metadata": {},
   "outputs": [
    {
     "data": {
      "text/plain": [
       "((56529441, 40), (56529441,), (14132361, 40), (14132361,))"
      ]
     },
     "execution_count": 11,
     "metadata": {},
     "output_type": "execute_result"
    }
   ],
   "source": [
    "from sklearn.model_selection import train_test_split\n",
    "def split_vals(a,n): return a[:n].copy(), a[n:].copy()\n",
    "# n_valid = 10000000\n",
    "# n_trn = len(df)-n_valid\n",
    "# #raw_train, raw_valid = split_vals(df_raw, n_trn)\n",
    "# X_train, X_valid = split_vals(df, n_trn)\n",
    "# y_train, y_valid = split_vals(y, n_trn)\n",
    "X_train, X_valid, y_train, y_valid = train_test_split(df, y, test_size=0.20, random_state=42)\n",
    "X_train.shape, y_train.shape, X_valid.shape, y_valid.shape"
   ]
  },
  {
   "cell_type": "code",
   "execution_count": 10,
   "metadata": {},
   "outputs": [],
   "source": [
    "def print_score(m):\n",
    "    res = [roc_auc_score(y_train,m.predict_proba(X_train)[:,1]), roc_auc_score(y_valid,m.predict_proba(X_valid)[:,1]),\n",
    "                m.score(X_train, y_train), m.score(X_valid, y_valid)]\n",
    "    if hasattr(m, 'oob_score_'): res.append(m.oob_score_)\n",
    "    print(res)"
   ]
  },
  {
   "cell_type": "code",
   "execution_count": 12,
   "metadata": {},
   "outputs": [],
   "source": [
    "test_id = df_test.id\n",
    "df_test = df_test.drop(['id'],axis =1)"
   ]
  },
  {
   "cell_type": "code",
   "execution_count": 10,
   "metadata": {},
   "outputs": [],
   "source": [
    "set_rf_samples(1000000)"
   ]
  },
  {
   "cell_type": "code",
   "execution_count": 40,
   "metadata": {},
   "outputs": [
    {
     "name": "stdout",
     "output_type": "stream",
     "text": [
      "[0.6918802183399206, 0.6904179209723427, 0.9701661397991149, 0.95329775, 0.9701111466026905]\n",
      "CPU times: user 4min 2s, sys: 33.9 s, total: 4min 36s\n",
      "Wall time: 2min 17s\n"
     ]
    }
   ],
   "source": [
    "# %%time\n",
    "# m = RandomForestClassifier(n_estimators=5, n_jobs=-1,min_samples_leaf=2, oob_score=True)\n",
    "# m.fit(X_train, y_train)\n",
    "# print_score(m)"
   ]
  },
  {
   "cell_type": "code",
   "execution_count": 61,
   "metadata": {},
   "outputs": [],
   "source": [
    "# preds_prob = m.predict_proba(df_test)[:,1]\n",
    "# preds = preds_prob.squeeze()\n",
    "# submit = pd.DataFrame({'id':test_id, 'is_chat':preds}, columns=['id', 'is_chat'])\n",
    "# submit.to_csv('submit_1.csv',index=False)"
   ]
  },
  {
   "cell_type": "code",
   "execution_count": 65,
   "metadata": {},
   "outputs": [
    {
     "data": {
      "text/plain": [
       "(11776968, 2)"
      ]
     },
     "execution_count": 65,
     "metadata": {},
     "output_type": "execute_result"
    }
   ],
   "source": [
    "submit.shape"
   ]
  },
  {
   "cell_type": "code",
   "execution_count": 16,
   "metadata": {},
   "outputs": [
    {
     "name": "stdout",
     "output_type": "stream",
     "text": [
      "CPU times: user 7min, sys: 23.2 s, total: 7min 23s\n",
      "Wall time: 2min 42s\n"
     ]
    },
    {
     "data": {
      "text/plain": [
       "0.8097364975358665"
      ]
     },
     "execution_count": 16,
     "metadata": {},
     "output_type": "execute_result"
    }
   ],
   "source": [
    "%%time\n",
    "m = RandomForestClassifier(n_estimators=50, n_jobs=-1,min_samples_leaf=3, oob_score=True,random_state=1)\n",
    "%time m.fit(X_train[0:2000000], y_train[0:2000000])\n",
    "roc_auc_score(y_valid,m.predict_proba(X_valid)[:,1])"
   ]
  },
  {
   "cell_type": "code",
   "execution_count": 16,
   "metadata": {},
   "outputs": [],
   "source": [
    "#y_valid[0:100]"
   ]
  },
  {
   "cell_type": "code",
   "execution_count": 22,
   "metadata": {},
   "outputs": [],
   "source": [
    "#roc_auc_score(y_valid[0:100],m.predict_proba(X_valid[0:100])[:,1])"
   ]
  },
  {
   "cell_type": "code",
   "execution_count": 17,
   "metadata": {},
   "outputs": [],
   "source": [
    "preds_prob = m.predict_proba(df_test)[:,1]\n",
    "preds = preds_prob.squeeze()\n",
    "submit = pd.DataFrame({'id':test_id, 'is_chat':preds}, columns=['id', 'is_chat'])\n",
    "submit.to_csv('submit_9.csv',index=False)"
   ]
  },
  {
   "cell_type": "code",
   "execution_count": 9,
   "metadata": {},
   "outputs": [
    {
     "name": "stdout",
     "output_type": "stream",
     "text": [
      "CPU times: user 8.61 s, sys: 88 ms, total: 8.7 s\n",
      "Wall time: 2.79 s\n"
     ]
    },
    {
     "name": "stderr",
     "output_type": "stream",
     "text": [
      "/usr/local/lib/python3.6/dist-packages/sklearn/preprocessing/label.py:151: DeprecationWarning: The truth value of an empty array is ambiguous. Returning False, but in future this will result in an error. Use `array.size > 0` to check that an array is not empty.\n",
      "  if diff:\n",
      "/usr/local/lib/python3.6/dist-packages/sklearn/preprocessing/label.py:151: DeprecationWarning: The truth value of an empty array is ambiguous. Returning False, but in future this will result in an error. Use `array.size > 0` to check that an array is not empty.\n",
      "  if diff:\n"
     ]
    },
    {
     "name": "stdout",
     "output_type": "stream",
     "text": [
      "[0.7980983816117887, 0.7973220789326988, 0.9711113545403873, 0.953573]\n",
      "CPU times: user 2min 24s, sys: 55.9 s, total: 3min 20s\n",
      "Wall time: 2min 18s\n"
     ]
    }
   ],
   "source": [
    "# m = XGBClassifier(random_stae=1,n_jobs=-1,n_estimators=20)\n",
    "# %time m.fit(X_train[0:300000], y_train[0:300000])\n",
    "# %time print_score(m)"
   ]
  },
  {
   "cell_type": "code",
   "execution_count": 13,
   "metadata": {},
   "outputs": [
    {
     "name": "stdout",
     "output_type": "stream",
     "text": [
      "CPU times: user 8.65 s, sys: 100 ms, total: 8.75 s\n",
      "Wall time: 2.78 s\n"
     ]
    },
    {
     "name": "stderr",
     "output_type": "stream",
     "text": [
      "/usr/local/lib/python3.6/dist-packages/sklearn/preprocessing/label.py:151: DeprecationWarning: The truth value of an empty array is ambiguous. Returning False, but in future this will result in an error. Use `array.size > 0` to check that an array is not empty.\n",
      "  if diff:\n",
      "/usr/local/lib/python3.6/dist-packages/sklearn/preprocessing/label.py:151: DeprecationWarning: The truth value of an empty array is ambiguous. Returning False, but in future this will result in an error. Use `array.size > 0` to check that an array is not empty.\n",
      "  if diff:\n"
     ]
    },
    {
     "name": "stdout",
     "output_type": "stream",
     "text": [
      "[0.826527643414976, 0.82474018290218, 0.9711102635408302, 0.9535721666666667]\n",
      "CPU times: user 2min 28s, sys: 55.5 s, total: 3min 24s\n",
      "Wall time: 2min 23s\n"
     ]
    }
   ],
   "source": [
    "# m = XGBClassifier(random_stae=1,n_jobs=-1,n_estimators=20,learning_rate=0.3)\n",
    "# %time m.fit(X_train[0:300000], y_train[0:300000])\n",
    "# %time print_score(m)"
   ]
  },
  {
   "cell_type": "code",
   "execution_count": 14,
   "metadata": {},
   "outputs": [
    {
     "name": "stdout",
     "output_type": "stream",
     "text": [
      "CPU times: user 14.2 s, sys: 160 ms, total: 14.4 s\n",
      "Wall time: 4.51 s\n"
     ]
    },
    {
     "name": "stderr",
     "output_type": "stream",
     "text": [
      "/usr/local/lib/python3.6/dist-packages/sklearn/preprocessing/label.py:151: DeprecationWarning: The truth value of an empty array is ambiguous. Returning False, but in future this will result in an error. Use `array.size > 0` to check that an array is not empty.\n",
      "  if diff:\n",
      "/usr/local/lib/python3.6/dist-packages/sklearn/preprocessing/label.py:151: DeprecationWarning: The truth value of an empty array is ambiguous. Returning False, but in future this will result in an error. Use `array.size > 0` to check that an array is not empty.\n",
      "  if diff:\n"
     ]
    },
    {
     "name": "stdout",
     "output_type": "stream",
     "text": [
      "[0.831535705204016, 0.8298450590613586, 0.9710962169215327, 0.9535643333333333]\n",
      "CPU times: user 3min 23s, sys: 56.2 s, total: 4min 19s\n",
      "Wall time: 2min 42s\n"
     ]
    }
   ],
   "source": [
    "# m = XGBClassifier(random_stae=1,n_jobs=-1,n_estimators=20,learning_rate=0.3,max_depth=5)\n",
    "# %time m.fit(X_train[0:300000], y_train[0:300000])\n",
    "# %time print_score(m)"
   ]
  },
  {
   "cell_type": "code",
   "execution_count": 17,
   "metadata": {},
   "outputs": [
    {
     "name": "stderr",
     "output_type": "stream",
     "text": [
      "/usr/local/lib/python3.6/dist-packages/pandas/core/frame.py:3140: SettingWithCopyWarning: \n",
      "A value is trying to be set on a copy of a slice from a DataFrame.\n",
      "Try using .loc[row_indexer,col_indexer] = value instead\n",
      "\n",
      "See the caveats in the documentation: http://pandas.pydata.org/pandas-docs/stable/indexing.html#indexing-view-versus-copy\n",
      "  self[k1] = value[k2]\n"
     ]
    }
   ],
   "source": [
    "X_train[['f13','f13_2']] = X_train[['f13','f13_2']].astype('int8')\n",
    "X_valid[['f13','f13_2']] = X_valid[['f13','f13_2']].astype('int8')"
   ]
  },
  {
   "cell_type": "code",
   "execution_count": 18,
   "metadata": {},
   "outputs": [],
   "source": [
    "df_test[['f13','f13_2']] = df_test[['f13','f13_2']].astype('int8')"
   ]
  },
  {
   "cell_type": "code",
   "execution_count": 22,
   "metadata": {},
   "outputs": [
    {
     "data": {
      "text/plain": [
       "0.8472517104725452"
      ]
     },
     "execution_count": 22,
     "metadata": {},
     "output_type": "execute_result"
    }
   ],
   "source": [
    "#m = XGBClassifier(random_stae=1,n_jobs=-1,n_estimators=90,learning_rate=0.3,max_depth=5)\n",
    "#%time m.fit(X_train[0:25000000], y_train[0:25000000])\n",
    "#%time print_score(m)\n",
    "roc_auc_score(y_valid,m.predict_proba(X_valid)[:,1])"
   ]
  },
  {
   "cell_type": "code",
   "execution_count": 23,
   "metadata": {},
   "outputs": [],
   "source": [
    "preds_prob = m.predict_proba(df_test)[:,1]\n",
    "preds = preds_prob.squeeze()\n",
    "submit = pd.DataFrame({'id':test_id, 'is_chat':preds}, columns=['id', 'is_chat'])\n",
    "submit.to_csv('submit_9.csv',index=False)"
   ]
  },
  {
   "cell_type": "code",
   "execution_count": 26,
   "metadata": {},
   "outputs": [],
   "source": [
    "#FileLink(submit)"
   ]
  },
  {
   "cell_type": "code",
   "execution_count": 27,
   "metadata": {},
   "outputs": [
    {
     "name": "stdout",
     "output_type": "stream",
     "text": [
      "CPU times: user 3min 4s, sys: 2.35 s, total: 3min 6s\n",
      "Wall time: 1h 5min 51s\n",
      "[0.7532771602622153, 0.7444760333352842, 0.9711113545403873, 0.953573]\n",
      "CPU times: user 47.1 s, sys: 26.7 s, total: 1min 13s\n",
      "Wall time: 1min 8s\n"
     ]
    }
   ],
   "source": [
    "# m = LogisticRegressionCV(random_state=1,n_jobs=-1,cv=5,penalty='l1',solver='liblinear')\n",
    "# %time m.fit(X_train[0:3000000], y_train[0:3000000])\n",
    "# %time print_score(m)"
   ]
  },
  {
   "cell_type": "code",
   "execution_count": 28,
   "metadata": {},
   "outputs": [],
   "source": [
    "# preds_prob = m.predict_proba(df_test)[:,1]\n",
    "# preds = preds_prob.squeeze()\n",
    "# submit = pd.DataFrame({'id':test_id, 'is_chat':preds}, columns=['id', 'is_chat'])\n",
    "# submit.to_csv('submit_4.csv',index=False)"
   ]
  },
  {
   "cell_type": "code",
   "execution_count": null,
   "metadata": {},
   "outputs": [],
   "source": []
  },
  {
   "cell_type": "code",
   "execution_count": null,
   "metadata": {},
   "outputs": [],
   "source": []
  },
  {
   "cell_type": "code",
   "execution_count": null,
   "metadata": {},
   "outputs": [],
   "source": []
  }
 ],
 "metadata": {
  "kernelspec": {
   "display_name": "Python 3",
   "language": "python",
   "name": "python3"
  },
  "language_info": {
   "codemirror_mode": {
    "name": "ipython",
    "version": 3
   },
   "file_extension": ".py",
   "mimetype": "text/x-python",
   "name": "python",
   "nbconvert_exporter": "python",
   "pygments_lexer": "ipython3",
   "version": "3.6.5"
  }
 },
 "nbformat": 4,
 "nbformat_minor": 2
}
